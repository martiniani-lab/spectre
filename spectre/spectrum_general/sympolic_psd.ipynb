{
 "cells": [
  {
   "cell_type": "code",
   "execution_count": 15,
   "outputs": [],
   "source": [
    "import numpy as np\n",
    "import sympy as sp\n",
    "import re\n",
    "import argparse\n",
    "\n",
    "import torch\n",
    "\n",
    "# parser = argparse.ArgumentParser()\n",
    "# parser.add_argument(\"n\", help=\"Enter the dimension of the system\", type=int)\n",
    "# args = parser.parse_args()\n",
    "#\n",
    "# n = args.n\n",
    "\n",
    "\"\"\"Define the dimensionality of the system\"\"\"\n",
    "n = 4\n",
    "\n",
    "\"\"\"Define the variable for which you want the auto-spectrum\"\"\"\n",
    "i = 0"
   ],
   "metadata": {
    "collapsed": false
   }
  },
  {
   "cell_type": "code",
   "execution_count": 16,
   "outputs": [],
   "source": [
    "\"\"\"Define the matrix J which is n*n and elements like [a11, 112; a21, a22]\"\"\"\n",
    "J = sp.Matrix([[sp.symbols('a%d%d' % (k+1, j+1)) for j in range(n)] for k in range(n)])"
   ],
   "metadata": {
    "collapsed": false
   }
  },
  {
   "cell_type": "code",
   "execution_count": 17,
   "outputs": [],
   "source": [
    "\"\"\"Define the noise variables\"\"\"\n",
    "l = [sp.Symbol('l%d' % (j)) for j in range(1, n+1)] # this is the noise variable\n",
    "s = [sp.Symbol('s%d' % (j)) for j in range(1, n+1)] # this is the sigma variable\n",
    "\n",
    "\"\"\"Define the O and P (submatrix of O) matrices\"\"\"\n",
    "O = [sp.Symbol('O%d%d' % (j, i+1)) for j in range(1, n+1)]\n",
    "O_prime = [sp.Symbol('O\\'%d%d' % (j, i+1)) for j in range(1, n+1)]\n",
    "\n",
    "\"\"\"Denominator\"\"\"\n",
    "J = sp.symbols('J')"
   ],
   "metadata": {
    "collapsed": false
   }
  },
  {
   "cell_type": "code",
   "execution_count": 18,
   "outputs": [],
   "source": [
    "\"\"\"Define the functions\"\"\"\n",
    "def power(x, n):\n",
    "    return sp.sympify(x**n)\n",
    "\n",
    "\"\"\"Define the trace function\"\"\"\n",
    "def Tr(x):\n",
    "    return sp.Function('Tr')(x)"
   ],
   "metadata": {
    "collapsed": false
   }
  },
  {
   "cell_type": "code",
   "execution_count": 19,
   "outputs": [],
   "source": [
    "\"\"\"Define Bell polynomial matrix\"\"\"\n",
    "def bell_inp(X, kappa, k):\n",
    "    \"\"\"\n",
    "    Constructs the traces of the matrix input X\n",
    "    \"\"\"\n",
    "    if k != 0:\n",
    "        x = sp.zeros(k, 1)\n",
    "        for i in range(0, k):\n",
    "            x[i] = - Tr(power(X, kappa * (i + 1)))\n",
    "        return sp.ImmutableMatrix(x)\n",
    "    else:\n",
    "        return sp.ImmutableMatrix(sp.ones(1))\n",
    "\n",
    "def comp_bell(x):\n",
    "    k = x.shape[0]\n",
    "    B_k = sp.zeros(k, k)\n",
    "    for i in range(0, k):\n",
    "        for j in range(0, k):\n",
    "            if j - i < -1:\n",
    "                B_k[i, j] = 0\n",
    "            elif j - i == -1:\n",
    "                B_k[i, j] = -i\n",
    "            else:\n",
    "                B_k[i, j] = x[j - i]\n",
    "    return sp.det(B_k)"
   ],
   "metadata": {
    "collapsed": false
   }
  },
  {
   "cell_type": "code",
   "execution_count": 20,
   "outputs": [],
   "source": [
    "\"\"\"Additional functions\"\"\"\n",
    "def d(A, alpha, n):\n",
    "    \"\"\"\n",
    "    d(w; A) = ||A+iwI||^2\n",
    "    Returns the coefficient of w^{2*alpha}\n",
    "    \"\"\"\n",
    "    return (-1) ** abs(n - alpha) * comp_bell(bell_inp(A, 2, n - alpha)) / sp.factorial(n - alpha)\n",
    "\n",
    "def g_2(A, B, alpha, n):\n",
    "    \"\"\"\n",
    "    g2 = Imaginary{2w Conjugate{|A+iwI|}|B+iwI|}\n",
    "    Returns the coefficient of the power of 2*alpha. See SI for details.\n",
    "    \"\"\"\n",
    "    temp = sp.Rational(\"0\")\n",
    "    for j in range(n + 1):\n",
    "        k = 2 * alpha - 1 - j\n",
    "        if k <= n - 1 and k >= 0:\n",
    "            coeff = 2 * (-1) ** abs(alpha - j - 1) / (sp.factorial(n - j) * sp.factorial(n - k - 1))\n",
    "            temp += coeff * comp_bell(bell_inp(A, 1, n - j)) * comp_bell(bell_inp(B, 1, n - k - 1))\n",
    "    return temp"
   ],
   "metadata": {
    "collapsed": false
   }
  },
  {
   "cell_type": "code",
   "execution_count": 21,
   "outputs": [],
   "source": [
    "def f(A, B, alpha, n):\n",
    "    \"\"\"\n",
    "    See SI for definition.\n",
    "    \"\"\"\n",
    "    return d(A, alpha, n-1) + d(B, alpha - 1, n-2) + g_2(A, B, alpha, n-1)"
   ],
   "metadata": {
    "collapsed": false
   }
  },
  {
   "cell_type": "code",
   "execution_count": 22,
   "outputs": [],
   "source": [
    "def p_alpha(i, alpha, l, s, O, P, n):\n",
    "    \"\"\"\n",
    "    This function returns the coefficient of the numerator of the auto-spectrum\n",
    "    of the i-th variable.\n",
    "    :param i: the index of the variable for which the auto-spectra is desired.\n",
    "    :param alpha: power of omega\n",
    "    :return: the value of the coefficient of omega^2alpha.\n",
    "    \"\"\"\n",
    "    temp = sp.Rational(\"0\")\n",
    "    for m in range(n):\n",
    "        if not m == i:\n",
    "            temp += s[m] ** 2 * l[m] ** 2 * f(O[m], P[m], alpha, n)\n",
    "        else:\n",
    "            temp += s[m] ** 2 * l[m] ** 2 * d(O[m], alpha, n-1)\n",
    "    return temp\n",
    "\n",
    "def q_alpha(J, alpha, n):\n",
    "    \"\"\"\n",
    "    This function returns the coefficient of the denominator of the spectrum.\n",
    "    Note that the denominator is the same for all the variables.\n",
    "    :param alpha: power of omega\n",
    "    :return: the value of the coefficient of omega^2alpha.\n",
    "    \"\"\"\n",
    "    return d(J, alpha, n)"
   ],
   "metadata": {
    "collapsed": false
   }
  },
  {
   "cell_type": "code",
   "execution_count": 23,
   "outputs": [
    {
     "name": "stdout",
     "output_type": "stream",
     "text": [
      "\\begin{equation}\\frac{\\Tr^{4}{\\left(\\mathbf{J}^{2} \\right)} - 6 \\Tr^{2}{\\left(\\mathbf{J}^{2} \\right)} \\Tr{\\left(\\mathbf{J}^{4} \\right)} + 8 \\Tr{\\left(\\mathbf{J}^{2} \\right)} \\Tr{\\left(\\mathbf{J}^{6} \\right)} + 3 \\Tr^{2}{\\left(\\mathbf{J}^{4} \\right)} - 6 \\Tr{\\left(\\mathbf{J}^{8} \\right)}}{24}\\end{equation}\n"
     ]
    }
   ],
   "source": [
    "\"\"\"Coefficients of the denominator\"\"\"\n",
    "alpha = 0\n",
    "den_coeff = sp.together(sp.simplify(q_alpha(J, alpha, n)))\n",
    "\n",
    "denm_str = sp.latex(den_coeff, mode='equation')\n",
    "denm_str = denm_str.replace(\"J\", \"\\mathbf{J}\")\n",
    "denm_str = denm_str.replace(\"\\operatorname{Tr}\", \"\\Tr\")\n",
    "print(denm_str)"
   ],
   "metadata": {
    "collapsed": false
   }
  },
  {
   "cell_type": "code",
   "execution_count": 28,
   "outputs": [
    {
     "name": "stdout",
     "output_type": "stream",
     "text": [
      "(l1**2*s1**2*(Tr(O11**2)**3 - 3*Tr(O11**2)*Tr(O11**4) + 2*Tr(O11**6)) + l2**2*s2**2*(Tr(O'21**2)**3 - 3*Tr(O'21**2)*Tr(O'21**4) + 2*Tr(O'21**6) + Tr(O21**2)**3 - 3*Tr(O21**2)*Tr(O21**4) + 2*Tr(O21**6)) + l3**2*s3**2*(Tr(O'31**2)**3 - 3*Tr(O'31**2)*Tr(O'31**4) + 2*Tr(O'31**6) + Tr(O31**2)**3 - 3*Tr(O31**2)*Tr(O31**4) + 2*Tr(O31**6)) + l4**2*s4**2*(Tr(O'41**2)**3 - 3*Tr(O'41**2)*Tr(O'41**4) + 2*Tr(O'41**6) + Tr(O41**2)**3 - 3*Tr(O41**2)*Tr(O41**4) + 2*Tr(O41**6)))/6\n"
     ]
    }
   ],
   "source": [
    "\"\"\"Coefficients of the numerator\"\"\"\n",
    "alpha = 0\n",
    "num_coeff = sp.together(sp.simplify(p_alpha(i, alpha, l, s, O, O_prime, n)))\n",
    "num_str = sp.latex(num_coeff, mode='equation')\n",
    "print(num_coeff)"
   ],
   "metadata": {
    "collapsed": false
   }
  },
  {
   "cell_type": "code",
   "execution_count": 29,
   "outputs": [
    {
     "name": "stdout",
     "output_type": "stream",
     "text": [
      "\\begin{equation}\\frac{l_{1}^{2} \\sigma_{1}^{2} (\\Tr^{3}{(\\mathbf{O}_{11}^{2} )} - 3 \\Tr{(\\mathbf{O}_{11}^{2} )} \\Tr{(\\mathbf{O}_{11}^{4} )} + 2 \\Tr{(\\mathbf{O}_{11}^{6} )}) + l_{2}^{2} \\sigma_{2}^{2} (\\Tr^{3}{(\\mathbf{O}^\\prime_{21}^{2} )} - 3 \\Tr{(\\mathbf{O}^\\prime_{21}^{2} )} \\Tr{(\\mathbf{O}^\\prime_{21}^{4} )} + 2 \\Tr{(\\mathbf{O}^\\prime_{21}^{6} )} + \\Tr^{3}{(\\mathbf{O}_{21}^{2} )} - 3 \\Tr{(\\mathbf{O}_{21}^{2} )} \\Tr{(\\mathbf{O}_{21}^{4} )} + 2 \\Tr{(\\mathbf{O}_{21}^{6} )}) + l_{3}^{2} \\sigma_{3}^{2} (\\Tr^{3}{(\\mathbf{O}^\\prime_{31}^{2} )} - 3 \\Tr{(\\mathbf{O}^\\prime_{31}^{2} )} \\Tr{(\\mathbf{O}^\\prime_{31}^{4} )} + 2 \\Tr{(\\mathbf{O}^\\prime_{31}^{6} )} + \\Tr^{3}{(\\mathbf{O}_{31}^{2} )} - 3 \\Tr{(\\mathbf{O}_{31}^{2} )} \\Tr{(\\mathbf{O}_{31}^{4} )} + 2 \\Tr{(\\mathbf{O}_{31}^{6} )}) + l_{4}^{2} \\sigma_{4}^{2} (\\Tr^{3}{(\\mathbf{O}^\\prime_{41}^{2} )} - 3 \\Tr{(\\mathbf{O}^\\prime_{41}^{2} )} \\Tr{(\\mathbf{O}^\\prime_{41}^{4} )} + 2 \\Tr{(\\mathbf{O}^\\prime_{41}^{6} )} + \\Tr^{3}{(\\mathbf{O}_{41}^{2} )} - 3 \\Tr{(\\mathbf{O}_{41}^{2} )} \\Tr{(\\mathbf{O}_{41}^{4} )} + 2 \\Tr{(\\mathbf{O}_{41}^{6} )})}{6}\\end{equation}\n"
     ]
    }
   ],
   "source": [
    "\"\"\"Processing the string for printing\"\"\"\n",
    "pattern = r\"O'(\\d{2})\"\n",
    "num_str = re.sub(pattern, r\"O^\\\\prime_{\\1}\", num_str)\n",
    "num_str = num_str.replace(\"O\", \"\\mathbf{O}\")\n",
    "num_str = num_str.replace(\"s_\", \"\\sigma_\")\n",
    "num_str = num_str.replace(\"\\operatorname{Tr}\", \"\\Tr\")\n",
    "num_str = num_str.replace(\"\\left\", \"\")\n",
    "num_str = num_str.replace(\"\\\\right\", \"\")\n",
    "print(num_str)"
   ],
   "metadata": {
    "collapsed": false
   }
  },
  {
   "cell_type": "code",
   "execution_count": 20,
   "outputs": [],
   "source": [
    "from spectrum_general.symbolic_spectrum import symbolic_PSD"
   ],
   "metadata": {
    "collapsed": false
   }
  },
  {
   "cell_type": "code",
   "execution_count": 55,
   "outputs": [
    {
     "name": "stdout",
     "output_type": "stream",
     "text": [
      "l_0\n"
     ]
    }
   ],
   "source": [
    "n = 4\n",
    "J = sp.symbols('J')\n",
    "l = [sp.Symbol('l_%d' % (j)) for j in range(n)]\n",
    "L = sp.diag(*l)\n",
    "s = [sp.Symbol('s_%d' % (j)) for j in range(n)]\n",
    "S = sp.diag(*s)\n",
    "print(L[0])"
   ],
   "metadata": {
    "collapsed": false
   }
  },
  {
   "cell_type": "code",
   "execution_count": 23,
   "outputs": [
    {
     "ename": "AttributeError",
     "evalue": "'Symbol' object has no attribute 'tolist'",
     "output_type": "error",
     "traceback": [
      "\u001B[1;31m---------------------------------------------------------------------------\u001B[0m",
      "\u001B[1;31mAttributeError\u001B[0m                            Traceback (most recent call last)",
      "Cell \u001B[1;32mIn [23], line 1\u001B[0m\n\u001B[1;32m----> 1\u001B[0m model \u001B[38;5;241m=\u001B[39m \u001B[43msymbolic_PSD\u001B[49m\u001B[43m(\u001B[49m\u001B[43mJ\u001B[49m\u001B[43m,\u001B[49m\u001B[43m \u001B[49m\u001B[43mL\u001B[49m\u001B[43m,\u001B[49m\u001B[43m \u001B[49m\u001B[43mS\u001B[49m\u001B[43m)\u001B[49m\n",
      "File \u001B[1;32mC:\\Shivang\\University of Minnesota\\research\\results\\8-8-22\\spectral paper wrapping up\\python scripts\\spectrum_general\\symbolic_spectrum.py:29\u001B[0m, in \u001B[0;36msymbolic_PSD.__init__\u001B[1;34m(self, J, L, S)\u001B[0m\n\u001B[0;32m     21\u001B[0m \u001B[38;5;124;03m\"\"\"\u001B[39;00m\n\u001B[0;32m     22\u001B[0m \u001B[38;5;124;03mIn this constructor function, we define and assign the different matrices \"O\"\u001B[39;00m\n\u001B[0;32m     23\u001B[0m \u001B[38;5;124;03mand list \"l\", upon which our spectrum solution depends.\u001B[39;00m\n\u001B[1;32m   (...)\u001B[0m\n\u001B[0;32m     26\u001B[0m \u001B[38;5;124;03m:param D: the matrix containing the variance of the noise terms added\u001B[39;00m\n\u001B[0;32m     27\u001B[0m \u001B[38;5;124;03m\"\"\"\u001B[39;00m\n\u001B[0;32m     28\u001B[0m \u001B[38;5;28msuper\u001B[39m()\u001B[38;5;241m.\u001B[39m\u001B[38;5;21m__init__\u001B[39m()\n\u001B[1;32m---> 29\u001B[0m \u001B[38;5;28mself\u001B[39m\u001B[38;5;241m.\u001B[39mJ \u001B[38;5;241m=\u001B[39m sp\u001B[38;5;241m.\u001B[39mMatrix([[sp\u001B[38;5;241m.\u001B[39mRational(\u001B[38;5;28mstr\u001B[39m(j)) \u001B[38;5;28;01mfor\u001B[39;00m j \u001B[38;5;129;01min\u001B[39;00m i] \u001B[38;5;28;01mfor\u001B[39;00m i \u001B[38;5;129;01min\u001B[39;00m \u001B[43mJ\u001B[49m\u001B[38;5;241;43m.\u001B[39;49m\u001B[43mtolist\u001B[49m()])\n\u001B[0;32m     30\u001B[0m \u001B[38;5;28mself\u001B[39m\u001B[38;5;241m.\u001B[39mL \u001B[38;5;241m=\u001B[39m sp\u001B[38;5;241m.\u001B[39mMatrix([[sp\u001B[38;5;241m.\u001B[39mRational(\u001B[38;5;28mstr\u001B[39m(j)) \u001B[38;5;28;01mfor\u001B[39;00m j \u001B[38;5;129;01min\u001B[39;00m i] \u001B[38;5;28;01mfor\u001B[39;00m i \u001B[38;5;129;01min\u001B[39;00m L\u001B[38;5;241m.\u001B[39mtolist()])\n\u001B[0;32m     31\u001B[0m \u001B[38;5;28mself\u001B[39m\u001B[38;5;241m.\u001B[39mS \u001B[38;5;241m=\u001B[39m sp\u001B[38;5;241m.\u001B[39mMatrix([[sp\u001B[38;5;241m.\u001B[39mRational(\u001B[38;5;28mstr\u001B[39m(j)) \u001B[38;5;28;01mfor\u001B[39;00m j \u001B[38;5;129;01min\u001B[39;00m i] \u001B[38;5;28;01mfor\u001B[39;00m i \u001B[38;5;129;01min\u001B[39;00m S\u001B[38;5;241m.\u001B[39mtolist()])\n",
      "\u001B[1;31mAttributeError\u001B[0m: 'Symbol' object has no attribute 'tolist'"
     ]
    }
   ],
   "source": [
    "model = symbolic_PSD(J, L, S)"
   ],
   "metadata": {
    "collapsed": false
   }
  },
  {
   "cell_type": "code",
   "execution_count": 48,
   "outputs": [
    {
     "name": "stdout",
     "output_type": "stream",
     "text": [
      "[O_01, O_11, O_21, O_31]\n"
     ]
    }
   ],
   "source": [
    "n = 4\n",
    "O = [[sp.Symbol('O_{}{}'.format(i, j)) for j in range(n)] for i in range(n)]\n",
    "# extract the second column and store it as a list\n",
    "\n",
    "print(O_prime)"
   ],
   "metadata": {
    "collapsed": false
   }
  },
  {
   "cell_type": "code",
   "execution_count": 40,
   "outputs": [
    {
     "ename": "NameError",
     "evalue": "name 'model' is not defined",
     "output_type": "error",
     "traceback": [
      "\u001B[1;31m---------------------------------------------------------------------------\u001B[0m",
      "\u001B[1;31mNameError\u001B[0m                                 Traceback (most recent call last)",
      "Cell \u001B[1;32mIn [40], line 1\u001B[0m\n\u001B[1;32m----> 1\u001B[0m \u001B[43mmodel\u001B[49m\u001B[38;5;241m.\u001B[39ml\n",
      "\u001B[1;31mNameError\u001B[0m: name 'model' is not defined"
     ]
    }
   ],
   "source": [
    "model.l"
   ],
   "metadata": {
    "collapsed": false
   }
  },
  {
   "cell_type": "code",
   "execution_count": null,
   "outputs": [],
   "source": [],
   "metadata": {
    "collapsed": false
   }
  }
 ],
 "metadata": {
  "kernelspec": {
   "display_name": "Python 3",
   "language": "python",
   "name": "python3"
  },
  "language_info": {
   "codemirror_mode": {
    "name": "ipython",
    "version": 2
   },
   "file_extension": ".py",
   "mimetype": "text/x-python",
   "name": "python",
   "nbconvert_exporter": "python",
   "pygments_lexer": "ipython2",
   "version": "2.7.6"
  }
 },
 "nbformat": 4,
 "nbformat_minor": 0
}
