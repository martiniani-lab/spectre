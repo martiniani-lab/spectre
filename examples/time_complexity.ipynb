{
 "cells": [
  {
   "cell_type": "markdown",
   "metadata": {},
   "source": [
    "In this notebook, we find the time complexity of the two algorithms: recursive and brute force."
   ]
  },
  {
   "cell_type": "code",
   "execution_count": 1,
   "metadata": {},
   "outputs": [],
   "source": [
    "import torch\n",
    "import matplotlib.pyplot as plt\n",
    "from spectre.spectrum_general import sim_solution\n",
    "from spectre.spectrum_general import element_wise\n",
    "from spectre.spectrum_general import recursive_g\n",
    "from spectre.spectrum_general import recursive_g_torch\n",
    "from scipy.optimize import curve_fit\n",
    "from spectre.model import HR\n",
    "import numpy as np\n",
    "import sympy as sp\n",
    "import time\n",
    "\n",
    "plt.rc(\"text\", usetex=True)\n",
    "plt.rc(\"font\", family=\"serif\")\n",
    "# device = torch.device(\"cuda\" if torch.cuda.is_available() else \"cpu\")\n",
    "device = torch.device(\"cpu\")\n",
    "\n",
    "fileloc = r\"../figures/recursive_g/\""
   ]
  },
  {
   "cell_type": "code",
   "execution_count": 36,
   "metadata": {},
   "outputs": [],
   "source": [
    "def system_matrices(n):\n",
    "    # Y = torch.diag(torch.rand(n))\n",
    "    A = torch.randn(n, n)\n",
    "    Y = torch.mm(A, A.t())\n",
    "    G = torch.randn(n, n)\n",
    "    G = 0.9 * G / torch.max(torch.abs(torch.linalg.eigvals(G))) # redefining the spectral radius of G to be a 0.9\n",
    "    return Y, G "
   ]
  },
  {
   "cell_type": "code",
   "execution_count": 34,
   "metadata": {},
   "outputs": [
    {
     "name": "stdout",
     "output_type": "stream",
     "text": [
      "tensor([11.9577+0.j,  7.3076+0.j,  2.0409+0.j,  0.6306+0.j,  0.5383+0.j])\n"
     ]
    }
   ],
   "source": [
    "Y, G = system_matrices(5)\n",
    "\n",
    "print(torch.linalg.eigvals(Y))"
   ]
  },
  {
   "cell_type": "code",
   "execution_count": 52,
   "metadata": {},
   "outputs": [
    {
     "name": "stdout",
     "output_type": "stream",
     "text": [
      "[ 1  2  3  4  6  9 14 20 29]\n"
     ]
    }
   ],
   "source": [
    "n_max = 30\n",
    "input_sizes = np.unique(np.logspace(0, np.log10(n_max), 10, dtype=int))\n",
    "print(input_sizes)"
   ]
  },
  {
   "cell_type": "code",
   "execution_count": 53,
   "metadata": {},
   "outputs": [],
   "source": [
    "# find the recursive and brute force solutions\n",
    "n_rep = 1\n",
    "recursive_times = np.empty((len(input_sizes), n_rep), dtype=float)\n",
    "brute_force_times = np.empty((len(input_sizes), n_rep), dtype=float)\n",
    "\n",
    "for n in input_sizes:\n",
    "    for rep in range(n_rep):\n",
    "        Y, G = system_matrices(n)\n",
    "\n",
    "        # recursive solution\n",
    "        start_time = time.time()\n",
    "        recursive_sol = recursive_g(G=G, Y=Y)\n",
    "        # save the time to recursive_times at rep\n",
    "        recursive_times[np.where(input_sizes == n)[0], rep] = time.time() - start_time\n",
    "\n",
    "        # brute force solution\n",
    "        start_time = time.time()\n",
    "        S_brute = []\n",
    "        for i in range(2*n+1):\n",
    "            temp = 0\n",
    "            for j in range(i+1):\n",
    "                temp += torch.linalg.matrix_power(G, i-j) @ Y @ torch.linalg.matrix_power(G.T, j)\n",
    "            S_brute.append(temp)\n",
    "        brute_force_times[np.where(input_sizes == n)[0], rep] = time.time() - start_time"
   ]
  },
  {
   "cell_type": "code",
   "execution_count": null,
   "metadata": {},
   "outputs": [],
   "source": [
    "# Fit a line to the log-log data\n",
    "def poly_fit_recursive(x, b):\n",
    "    return 2 * x + b"
   ]
  },
  {
   "cell_type": "code",
   "execution_count": null,
   "metadata": {},
   "outputs": [],
   "source": [
    "def poly_fit_brute(x, b):\n",
    "    return 3 * x + b"
   ]
  },
  {
   "cell_type": "code",
   "execution_count": null,
   "metadata": {},
   "outputs": [],
   "source": [
    "log_input_sizes = np.log10(input_sizes)\n",
    "log_recursive_times = np.log10(recursive_times)\n",
    "log_brute_force_times = np.log10(brute_force_times)\n",
    "\n",
    "popt_recursive, _ = curve_fit(poly_fit_recursive, log_input_sizes[2:], np.mean(log_recursive_times, axis=1)[2:])\n",
    "popt_brute_force, _ = curve_fit(poly_fit_brute, log_input_sizes[2:], np.mean(log_brute_force_times, axis=1)[2:])"
   ]
  },
  {
   "cell_type": "code",
   "execution_count": null,
   "metadata": {},
   "outputs": [
    {
     "data": {
      "image/png": "[encoded data removed]",
      "text/plain": [
       "<Figure size 864x432 with 2 Axes>"
      ]
     },
     "metadata": {
      "needs_background": "light"
     },
     "output_type": "display_data"
    }
   ],
   "source": [
    "# plot the average times for recursive and brute on separate plots along with their fits\n",
    "plt.figure(figsize=(12, 6))\n",
    "\n",
    "plt.subplot(1, 2, 1)\n",
    "plt.plot(input_sizes, np.mean(recursive_times, axis=1), 'o', label='Recursive')\n",
    "plt.plot(input_sizes, 10**poly_fit_recursive(log_input_sizes, *popt_recursive), label='Fit')\n",
    "plt.yscale('log')\n",
    "plt.xscale('log')\n",
    "\n",
    "plt.xlabel('Input size')\n",
    "plt.ylabel('Time (s)')\n",
    "plt.title('Recursive solution')\n",
    "plt.legend()\n",
    "\n",
    "plt.subplot(1, 2, 2)\n",
    "plt.plot(input_sizes, np.mean(brute_force_times, axis=1), 'o', label='Brute force')\n",
    "plt.plot(input_sizes, 10**poly_fit_brute(log_input_sizes, *popt_brute_force), label='Fit')\n",
    "plt.yscale('log')\n",
    "plt.xscale('log')\n",
    "plt.xlabel('Input size')\n",
    "plt.ylabel('Time (s)')\n",
    "plt.title('Brute force solution')\n",
    "plt.legend()\n",
    "\n",
    "plt.tight_layout()\n",
    "plt.show()"
   ]
  },
  {
   "cell_type": "code",
   "execution_count": null,
   "metadata": {},
   "outputs": [],
   "source": []
  },
  {
   "cell_type": "code",
   "execution_count": null,
   "metadata": {},
   "outputs": [],
   "source": []
  },
  {
   "cell_type": "code",
   "execution_count": null,
   "metadata": {},
   "outputs": [],
   "source": []
  },
  {
   "cell_type": "code",
   "execution_count": null,
   "metadata": {},
   "outputs": [],
   "source": []
  }
 ],
 "metadata": {
  "kernelspec": {
   "display_name": "conda-fr-whistler",
   "language": "python",
   "name": "python3"
  },
  "language_info": {
   "codemirror_mode": {
    "name": "ipython",
    "version": 3
   },
   "file_extension": ".py",
   "mimetype": "text/x-python",
   "name": "python",
   "nbconvert_exporter": "python",
   "pygments_lexer": "ipython3",
   "version": "3.11.4"
  }
 },
 "nbformat": 4,
 "nbformat_minor": 2
}
