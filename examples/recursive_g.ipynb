{
 "cells": [
  {
   "cell_type": "code",
   "execution_count": 1,
   "metadata": {},
   "outputs": [],
   "source": [
    "import torch\n",
    "import matplotlib.pyplot as plt\n",
    "from spectre.spectrum_general import sim_solution\n",
    "from spectre.spectrum_general import element_wise\n",
    "from spectre.spectrum_general import recursive_g\n",
    "from spectre.spectrum_general import recursive_g_torch\n",
    "from spectre.model import HR\n",
    "import numpy as np\n",
    "import sympy as sp\n",
    "\n",
    "\n",
    "plt.rc(\"text\", usetex=True)\n",
    "plt.rc(\"font\", family=\"serif\")\n",
    "# device = torch.device(\"cuda\" if torch.cuda.is_available() else \"cpu\")\n",
    "device = torch.device(\"cpu\")\n",
    "\n",
    "fileloc = r\"../figures/recursive_g/\""
   ]
  },
  {
   "cell_type": "code",
   "execution_count": 2,
   "metadata": {},
   "outputs": [],
   "source": [
    "# Define the system size\n",
    "n = 10\n",
    "\n",
    "# Define the diagonal rate matrix Y\n",
    "Y = torch.diag(torch.rand(n))\n",
    "\n",
    "# Define the connectivity matrix G\n",
    "G = torch.randn(n, n)\n",
    "G = 0.9 * G / torch.max(torch.abs(torch.linalg.eigvals(G))) # redefining the spectral radius of G to be a 0.9"
   ]
  },
  {
   "cell_type": "code",
   "execution_count": 3,
   "metadata": {},
   "outputs": [],
   "source": [
    "recursive_sol = recursive_g(G=G, Y=Y)\n",
    "# S_recursive = recursive_g_torch(G=G, Y=Y)\n",
    "\n",
    "S = recursive_sol.S"
   ]
  },
  {
   "cell_type": "code",
   "execution_count": 4,
   "metadata": {},
   "outputs": [],
   "source": [
    "S_brute = []\n",
    "for i in range(2*n+1):\n",
    "    temp = 0\n",
    "    for j in range(i+1):\n",
    "        temp += torch.linalg.matrix_power(G, i-j) @ Y @ torch.linalg.matrix_power(G.T, j)\n",
    "    S_brute.append(temp)"
   ]
  },
  {
   "cell_type": "code",
   "execution_count": 5,
   "metadata": {},
   "outputs": [],
   "source": [
    "# # ## check if the two solutions are the same\n",
    "# for i in range(2*n+1):\n",
    "#     print(torch.allclose(torch.from_numpy(np.array(S[i]).astype(np.float32)), S_brute[i], atol=1e-5))"
   ]
  },
  {
   "cell_type": "markdown",
   "metadata": {},
   "source": [
    "### For a random network"
   ]
  },
  {
   "cell_type": "code",
   "execution_count": 10,
   "metadata": {},
   "outputs": [
    {
     "name": "stdout",
     "output_type": "stream",
     "text": [
      "tensor([ 1.,  1.,  1.,  1., -1., -1.,  1.,  1., -1.,  1.,  1.,  1., -1.,  1.,\n",
      "         1.,  1.,  1.,  1.,  1.,  1.])\n",
      "tensor(0.0825)\n",
      "tensor(0.0256)\n"
     ]
    }
   ],
   "source": [
    "def create_neural_network(N, excitatory_percent, p, g_e, g_i):\n",
    "    num_excitatory = int(N * excitatory_percent)\n",
    "    num_inhibitory = N - num_excitatory\n",
    "    \n",
    "    G = torch.zeros((N, N))\n",
    "        \n",
    "    # Create a list of neuron types (1 for excitatory, -1 for inhibitory)\n",
    "    neuron_types = torch.cat((torch.ones(num_excitatory), -torch.ones(num_inhibitory)))\n",
    "    \n",
    "    # Shuffle the neuron types\n",
    "    neuron_types = neuron_types[torch.randperm(N)]\n",
    "    \n",
    "    # Create random connections with the specified probability\n",
    "    for i in range(N):\n",
    "        for j in range(N):\n",
    "            if np.random.rand() < p:\n",
    "                if neuron_types[j] == 1:\n",
    "                    G[i, j] = g_e\n",
    "                else:\n",
    "                    G[i, j] = g_i\n",
    "    \n",
    "    return G, neuron_types\n",
    "\n",
    "\n",
    "N = 20  # Total number of neurons\n",
    "excitatory_percent = 0.8  # 80% excitatory neurons\n",
    "p = 0.1  # Probability of connection\n",
    "g_e = 0.015  # Excitatory synaptic strength\n",
    "g_i = -0.075  # Inhibitory synaptic strength\n",
    "\n",
    "# define the external drive\n",
    "Y = 10 * torch.eye(N)\n",
    "\n",
    "# Find the integrated kernel matrix\n",
    "G, neuron_types = create_neural_network(N, excitatory_percent, p, g_e, g_i)\n",
    "\n",
    "# print(G)\n",
    "print(neuron_types)\n",
    "print(torch.count_nonzero(G) / (N**2))\n",
    "print(torch.max(torch.abs(torch.linalg.eigvals(G))))"
   ]
  },
  {
   "cell_type": "code",
   "execution_count": 25,
   "metadata": {},
   "outputs": [],
   "source": [
    "n_max = 2 * N + 1\n",
    "recursive_sol = recursive_g(G=G, Y=Y, n_max=n_max)\n",
    "S = recursive_sol.S"
   ]
  },
  {
   "cell_type": "code",
   "execution_count": 26,
   "metadata": {},
   "outputs": [],
   "source": [
    "# create an empty list of size n_max\n",
    "c = [0] * n_max\n",
    "\n",
    "for idx, mat in enumerate(S):\n",
    "    c[idx] = float(sum(mat).evalf()) / (N * N)\n",
    "    # c[idx] = c[idx] / (idx + 1)\n",
    "\n",
    "# convert c to numpy array\n",
    "c = np.array(c)"
   ]
  },
  {
   "cell_type": "code",
   "execution_count": 27,
   "metadata": {},
   "outputs": [
    {
     "data": {
      "image/png": "[encoded data removed]",
      "text/plain": [
       "<Figure size 720x432 with 1 Axes>"
      ]
     },
     "metadata": {
      "needs_background": "light"
     },
     "output_type": "display_data"
    }
   ],
   "source": [
    "from matplotlib.ticker import MaxNLocator, LogLocator\n",
    "\n",
    "plt.figure(figsize=(10, 6))\n",
    "x = np.arange(n_max)\n",
    "plt.plot(x, abs(c), 'o-', color='k', linewidth=2)\n",
    "plt.xscale('log')\n",
    "plt.yscale('log')\n",
    "plt.xlabel('Index', fontsize=24)\n",
    "plt.ylabel('c', fontsize=24)\n",
    "\n",
    "# Adjusting tick parameters\n",
    "plt.xticks(fontsize=16)\n",
    "plt.yticks(fontsize=16)\n",
    "\n",
    "# Customizing the number of ticks for logarithmic scale\n",
    "plt.gca().xaxis.set_major_locator(LogLocator(base=10.0, numticks=5))\n",
    "plt.gca().yaxis.set_major_locator(LogLocator(base=10.0, numticks=5))\n",
    "\n",
    "plt.show()"
   ]
  },
  {
   "cell_type": "code",
   "execution_count": 28,
   "metadata": {},
   "outputs": [
    {
     "data": {
      "image/png": "[encoded data removed]",
      "text/plain": [
       "<Figure size 720x432 with 1 Axes>"
      ]
     },
     "metadata": {
      "needs_background": "light"
     },
     "output_type": "display_data"
    }
   ],
   "source": [
    "# plot lin lin\n",
    "plt.figure(figsize=(10, 6))\n",
    "x = np.arange(n_max)\n",
    "plt.plot(x[1:], abs(c[1:]), 'o-', color='k', linewidth=2)\n",
    "plt.xlim([0, 5])\n",
    "plt.xlabel('Index', fontsize=24)\n",
    "plt.ylabel('c', fontsize=24)\n",
    "\n",
    "# Adjusting tick parameters\n",
    "plt.xticks(fontsize=16)\n",
    "plt.yticks(fontsize=16)\n",
    "\n",
    "plt.show()"
   ]
  },
  {
   "cell_type": "markdown",
   "metadata": {},
   "source": [
    "### We do the same for structured network, where the connectivity is only limited to a distance d\n"
   ]
  },
  {
   "cell_type": "code",
   "execution_count": 29,
   "metadata": {},
   "outputs": [
    {
     "name": "stdout",
     "output_type": "stream",
     "text": [
      "tensor([ 1., -1.,  1.,  1.,  1.,  1.,  1., -1.,  1.,  1.,  1.,  1.,  1.,  1.,\n",
      "        -1.])\n",
      "tensor(0.4667)\n",
      "tensor(0.0808)\n"
     ]
    }
   ],
   "source": [
    "import torch\n",
    "import numpy as np\n",
    "\n",
    "def create_neural_network_local(N, excitatory_percent, d, g_e, g_i):\n",
    "    num_excitatory = int(N * excitatory_percent)\n",
    "    num_inhibitory = N - num_excitatory\n",
    "    \n",
    "    G = torch.zeros((N, N))\n",
    "        \n",
    "    # Create a list of neuron types (1 for excitatory, -1 for inhibitory)\n",
    "    neuron_types = torch.cat((torch.ones(num_excitatory), -torch.ones(num_inhibitory)))\n",
    "    \n",
    "    # Shuffle the neuron types\n",
    "    neuron_types = neuron_types[torch.randperm(N)]\n",
    "    \n",
    "    # Create connections limited to nearby neighbors within distance d\n",
    "    for i in range(N):\n",
    "        for j in range(i - d, i + d + 1):\n",
    "            j_mod = j % N  # Wrap around for the ring structure\n",
    "            if neuron_types[j_mod] == 1:\n",
    "                G[i, j_mod] = g_e\n",
    "            else:\n",
    "                G[i, j_mod] = g_i\n",
    "    \n",
    "    return G, neuron_types\n",
    "\n",
    "\n",
    "N = 15  # Total number of neurons\n",
    "excitatory_percent = 0.8  # 80% excitatory neurons\n",
    "d = 3  # Distance within which connections are allowed\n",
    "g_e = 0.015  # Excitatory synaptic strength\n",
    "g_i = -0.075  # Inhibitory synaptic strength\n",
    "\n",
    "# define the external drive\n",
    "Y = 10 * torch.eye(N)\n",
    "\n",
    "# Find the integrated kernel matrix\n",
    "G, neuron_types = create_neural_network_local(N, excitatory_percent, d, g_e, g_i)\n",
    "\n",
    "print(neuron_types)\n",
    "print(torch.count_nonzero(G) / (N**2))\n",
    "print(torch.max(torch.abs(torch.linalg.eigvals(G))))\n"
   ]
  },
  {
   "cell_type": "code",
   "execution_count": 30,
   "metadata": {},
   "outputs": [
    {
     "data": {
      "text/plain": [
       "Text(0, 0.5, 'Neuron index')"
      ]
     },
     "execution_count": 30,
     "metadata": {},
     "output_type": "execute_result"
    },
    {
     "data": {
      "image/png": "[encoded data removed]",
      "text/plain": [
       "<Figure size 720x720 with 2 Axes>"
      ]
     },
     "metadata": {
      "needs_background": "light"
     },
     "output_type": "display_data"
    }
   ],
   "source": [
    "# plot G with a diverging colormap\n",
    "plt.figure(figsize=(10, 10))\n",
    "plt.imshow(G, cmap='coolwarm', vmin=-0.1, vmax=0.1)\n",
    "plt.colorbar()\n",
    "plt.xlabel('Neuron index', fontsize=24)\n",
    "plt.ylabel('Neuron index', fontsize=24)\n"
   ]
  },
  {
   "cell_type": "code",
   "execution_count": 32,
   "metadata": {},
   "outputs": [
    {
     "data": {
      "image/png": "[encoded data removed]",
      "text/plain": [
       "<Figure size 720x432 with 1 Axes>"
      ]
     },
     "metadata": {
      "needs_background": "light"
     },
     "output_type": "display_data"
    }
   ],
   "source": [
    "n_max = 2 * N + 1\n",
    "recursive_sol = recursive_g(G=G, Y=Y, n_max=n_max)\n",
    "S = recursive_sol.S\n",
    "\n",
    "# create an empty list of size n_max\n",
    "c = [0] * n_max\n",
    "\n",
    "for idx, mat in enumerate(S):\n",
    "    c[idx] = float(sum(mat).evalf()) / (N * N)\n",
    "    # c[idx] = c[idx] / (idx + 1)\n",
    "\n",
    "# convert c to numpy array\n",
    "c = np.array(c)\n",
    "\n",
    "from matplotlib.ticker import MaxNLocator, LogLocator\n",
    "\n",
    "plt.figure(figsize=(10, 6))\n",
    "x = np.arange(2 * N + 1)\n",
    "plt.plot(x, abs(c), 'o-', color='k', linewidth=2)\n",
    "plt.xscale('log')\n",
    "plt.yscale('log')\n",
    "plt.xlabel('Index', fontsize=24)\n",
    "plt.ylabel('c', fontsize=24)\n",
    "\n",
    "# Adjusting tick parameters\n",
    "plt.xticks(fontsize=16)\n",
    "plt.yticks(fontsize=16)\n",
    "\n",
    "# Customizing the number of ticks for logarithmic scale\n",
    "plt.gca().xaxis.set_major_locator(LogLocator(base=10.0, numticks=5))\n",
    "plt.gca().yaxis.set_major_locator(LogLocator(base=10.0, numticks=5))\n",
    "\n",
    "plt.show()"
   ]
  },
  {
   "cell_type": "code",
   "execution_count": null,
   "metadata": {},
   "outputs": [],
   "source": []
  },
  {
   "cell_type": "code",
   "execution_count": null,
   "metadata": {},
   "outputs": [],
   "source": []
  }
 ],
 "metadata": {
  "kernelspec": {
   "display_name": "conda-fr-whistler",
   "language": "python",
   "name": "python3"
  },
  "language_info": {
   "codemirror_mode": {
    "name": "ipython",
    "version": 3
   },
   "file_extension": ".py",
   "mimetype": "text/x-python",
   "name": "python",
   "nbconvert_exporter": "python",
   "pygments_lexer": "ipython3",
   "version": "3.11.4"
  }
 },
 "nbformat": 4,
 "nbformat_minor": 2
}
