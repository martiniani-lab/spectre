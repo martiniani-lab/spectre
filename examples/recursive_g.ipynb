{
 "cells": [
  {
   "cell_type": "code",
   "execution_count": 1,
   "metadata": {},
   "outputs": [],
   "source": [
    "import torch\n",
    "import matplotlib.pyplot as plt\n",
    "from matplotlib.ticker import MaxNLocator, LogLocator\n",
    "from spectre.spectrum_general import sim_solution\n",
    "from spectre.spectrum_general import element_wise\n",
    "from spectre.spectrum_general import recursive_g\n",
    "from spectre.spectrum_general import recursive_g_torch\n",
    "from scipy.stats import linregress\n",
    "from spectre.model import HR\n",
    "import numpy as np\n",
    "import sympy as sp\n",
    "\n",
    "\n",
    "plt.rc(\"text\", usetex=True)\n",
    "plt.rc(\"font\", family=\"serif\")\n",
    "# device = torch.device(\"cuda\" if torch.cuda.is_available() else \"cpu\")\n",
    "device = torch.device(\"cpu\")\n",
    "\n",
    "fileloc = r\"../figures/recursive_g/\""
   ]
  },
  {
   "cell_type": "code",
   "execution_count": 2,
   "metadata": {},
   "outputs": [],
   "source": [
    "# Define the system size\n",
    "n = 1\n",
    "\n",
    "# Define the diagonal rate matrix Y\n",
    "Y = torch.diag(torch.rand(n))\n",
    "\n",
    "# Define the connectivity matrix G\n",
    "G = torch.randn(n, n)\n",
    "G = 0.9 * G / torch.max(torch.abs(torch.linalg.eigvals(G))) # redefining the spectral radius of G to be a 0.9"
   ]
  },
  {
   "cell_type": "code",
   "execution_count": 3,
   "metadata": {},
   "outputs": [],
   "source": [
    "recursive_sol = recursive_g(G=G, Y=Y)\n",
    "# S_recursive = recursive_g_torch(G=G, Y=Y)\n",
    "\n",
    "S = recursive_sol.S"
   ]
  },
  {
   "cell_type": "code",
   "execution_count": 4,
   "metadata": {},
   "outputs": [],
   "source": [
    "S_brute = []\n",
    "for i in range(2*n+1):\n",
    "    temp = 0\n",
    "    for j in range(i+1):\n",
    "        temp += torch.linalg.matrix_power(G, i-j) @ Y @ torch.linalg.matrix_power(G.T, j)\n",
    "    S_brute.append(temp)"
   ]
  },
  {
   "cell_type": "code",
   "execution_count": 5,
   "metadata": {},
   "outputs": [],
   "source": [
    "# # ## check if the two solutions are the same\n",
    "# for i in range(2*n+1):\n",
    "#     print(torch.allclose(torch.from_numpy(np.array(S[i]).astype(np.float32)), S_brute[i], atol=1e-5))"
   ]
  },
  {
   "cell_type": "markdown",
   "metadata": {},
   "source": [
    "### For a ring network"
   ]
  },
  {
   "cell_type": "code",
   "execution_count": 6,
   "metadata": {},
   "outputs": [
    {
     "data": {
      "image/png": "[encoded data removed]",
      "text/plain": [
       "<Figure size 432x288 with 2 Axes>"
      ]
     },
     "metadata": {
      "needs_background": "light"
     },
     "output_type": "display_data"
    }
   ],
   "source": [
    "def create_neural_network(N, a, connection_radius_exc, connection_radius_inh, connection_radius_EI, connection_radius_IE):\n",
    "    N_exc = int(a * N)\n",
    "    N_inh = N - N_exc\n",
    "    \n",
    "    # Create weight matrix\n",
    "    W = np.zeros((N, N))\n",
    "    \n",
    "    # Create connections for excitatory neurons (including self-connections)\n",
    "    for i in range(N_exc):\n",
    "        for j in range(N_exc):\n",
    "            # Calculate distance on the excitatory ring\n",
    "            dist = min((i - j) % N_exc, (j - i) % N_exc)\n",
    "            if dist <= connection_radius_exc:\n",
    "                W[i, j] = 0.015\n",
    "    \n",
    "    # Create connections for inhibitory neurons (including self-connections)\n",
    "    for i in range(N_exc, N):\n",
    "        for j in range(N_exc, N):\n",
    "            # Calculate distance on the inhibitory ring\n",
    "            dist = min((i - j) % N_inh, (j - i) % N_inh)\n",
    "            if dist <= connection_radius_inh:\n",
    "                W[i, j] = -0.075\n",
    "    \n",
    "    # Create connections from I to E neurons\n",
    "    for i in range(N_exc):\n",
    "        for j in range(N_exc, N):\n",
    "            # Map inhibitory neuron index to the excitatory ring scale\n",
    "            j_mapped = int((j - N_exc) * (a / (1 - a)))\n",
    "            \n",
    "            # Calculate distance between inhibitory and excitatory neurons\n",
    "            dist_inh_to_exc = min((i - j_mapped) % N_exc, (j_mapped - i) % N_exc)\n",
    "            \n",
    "            # Scale the connection radius for inhibitory neurons\n",
    "            # scaled_radius_inh = int(connection_radius_inh * (a / (1 - a)))\n",
    "            scaled_radius_inh = connection_radius_EI\n",
    "            \n",
    "            if dist_inh_to_exc <= scaled_radius_inh:\n",
    "                W[i, j] = -0.075\n",
    "\n",
    "    # Create connections from E to I neurons\n",
    "    for i in range(N_exc, N):\n",
    "        for j in range(N_exc):\n",
    "            # Map excitatory neuron index to the inhibitory ring scale\n",
    "            j_mapped = int(j * ((1 - a) / a) + N_exc)\n",
    "            \n",
    "            # Calculate distance between excitatory and inhibitory neurons\n",
    "            dist_exc_to_inh = min((i - j_mapped) % N_inh, (j_mapped - i) % N_inh)\n",
    "            \n",
    "            # Scale the connection radius for excitatory neurons\n",
    "            # scaled_radius_exc = int(connection_radius_exc * ((1 - a) / a))\n",
    "            scaled_radius_exc = connection_radius_IE\n",
    "            \n",
    "            if dist_exc_to_inh <= scaled_radius_exc:\n",
    "                W[i, j] = 0.015\n",
    "    \n",
    "    return W\n",
    "\n",
    "# Example usage\n",
    "N = 20  # Total number of neurons\n",
    "a = 0.8   # Fraction of excitatory neurons\n",
    "connection_radius_exc = 0.1 * N  # Number of neighbors to connect in each direction for excitatory neurons\n",
    "connection_radius_inh = 0.1 * N   # Number of neighbors to connect in each direction for inhibitory neurons\n",
    "connection_radius_EI = 0.2 * N   # Number of neighbors to connect between excitatory and inhibitory neurons\n",
    "connection_radius_IE = 0.05 * N   # Number of neighbors to connect between excitatory and inhibitory neurons\n",
    "\n",
    "W = create_neural_network(N, a, connection_radius_exc, connection_radius_inh, connection_radius_EI, connection_radius_IE)\n",
    "\n",
    "# Plot the weight matrix\n",
    "plt.figure()\n",
    "plt.imshow(W, cmap='bwr', vmin=-0.1, vmax=0.1)\n",
    "plt.colorbar()\n",
    "plt.title('Weight matrix')\n",
    "plt.xlabel('Neuron index')\n",
    "plt.ylabel('Neuron index')\n",
    "plt.show()"
   ]
  },
  {
   "cell_type": "code",
   "execution_count": 7,
   "metadata": {},
   "outputs": [
    {
     "name": "stdout",
     "output_type": "stream",
     "text": [
      "0.45\n"
     ]
    }
   ],
   "source": [
    "# find the percent of nonzero entries in the weight matrix\n",
    "percent_nonzero = np.count_nonzero(W) / (N * N)\n",
    "print(percent_nonzero)"
   ]
  },
  {
   "cell_type": "code",
   "execution_count": 8,
   "metadata": {},
   "outputs": [],
   "source": [
    "# define the external drive\n",
    "Y = 10 * torch.eye(N)\n",
    "\n",
    "# define the connectivity matrix\n",
    "G = torch.from_numpy(W).float()"
   ]
  },
  {
   "cell_type": "code",
   "execution_count": 9,
   "metadata": {},
   "outputs": [],
   "source": [
    "n_max = 2 * N + 1\n",
    "# n_max = 20"
   ]
  },
  {
   "cell_type": "code",
   "execution_count": 10,
   "metadata": {},
   "outputs": [],
   "source": [
    "# recursive_sol = recursive_g(G=G, Y=Y, n_max=n_max)\n",
    "# S = recursive_sol.S\n",
    "\n",
    "# # for sympy\n",
    "# c = [0] * n_max\n",
    "\n",
    "# for idx, mat in enumerate(S):\n",
    "#     c[idx] = float(sum(mat).evalf()) / (N * N)\n",
    "#     # c[idx] = c[idx] / (idx + 1)\n",
    "\n",
    "# # convert c to numpy array\n",
    "# c = np.array(c)"
   ]
  },
  {
   "cell_type": "code",
   "execution_count": 11,
   "metadata": {},
   "outputs": [],
   "source": [
    "# for torch\n",
    "recursive_sol_torch = recursive_g_torch(G=G, Y=Y, n_max=n_max)\n",
    "S_torch = recursive_sol_torch.S\n",
    "\n",
    "c_torch = [0] * n_max\n",
    "\n",
    "for idx, mat in enumerate(S_torch):\n",
    "    c_torch[idx] = torch.sum(mat).item() / (N * N)\n",
    "    # c_torch[idx] = c_torch[idx] / (idx + 1)\n",
    "\n",
    "# convert c to numpy array\n",
    "c_torch = np.array(c_torch)"
   ]
  },
  {
   "cell_type": "code",
   "execution_count": 12,
   "metadata": {},
   "outputs": [],
   "source": [
    "# brute force\n",
    "c_brute = [0] * n_max\n",
    "\n",
    "for i in range(n_max):\n",
    "    mat = 0\n",
    "    for j in range(i+1):\n",
    "        mat += torch.linalg.matrix_power(G, i-j) @ Y @ torch.linalg.matrix_power(G.T, j)\n",
    "    c_brute[i] = torch.sum(mat).item() / (N * N)\n",
    "    # c_brute[i] = c_brute[i] / (i + 1)\n",
    "\n",
    "c_brute = np.array(c_brute)"
   ]
  },
  {
   "cell_type": "code",
   "execution_count": 13,
   "metadata": {},
   "outputs": [
    {
     "name": "stdout",
     "output_type": "stream",
     "text": [
      "torch slope: -1.6383977647775487\n",
      "e_effective: 0.19429109306881612\n"
     ]
    }
   ],
   "source": [
    "# fit a line to the data\n",
    "x = np.arange(n_max)\n",
    "\n",
    "# Fit line through x and log(y)\n",
    "log_c_torch = np.log(abs(c_torch))\n",
    "\n",
    "slope_torch, intercept_torch, _, _, _ = linregress(x[3:], log_c_torch[3:])\n",
    "fit_torch = np.exp(intercept_torch + slope_torch * x)\n",
    "print(f\"torch slope: {slope_torch}\")\n",
    "print(f\"e_effective: {np.exp(slope_torch)}\")"
   ]
  },
  {
   "cell_type": "code",
   "execution_count": 14,
   "metadata": {},
   "outputs": [
    {
     "data": {
      "image/png": "[encoded data removed]",
      "text/plain": [
       "<Figure size 576x432 with 1 Axes>"
      ]
     },
     "metadata": {
      "needs_background": "light"
     },
     "output_type": "display_data"
    }
   ],
   "source": [
    "color_recursive = \"#FFA353\"\n",
    "color_brute_force = \"#095400\"\n",
    "\n",
    "plt.figure(figsize=(8, 6))\n",
    "# x = np.exp(np.arange(n_max))\n",
    "\n",
    "plt.plot(x, fit_torch, '--', linewidth=3, color='k', label='Fit')\n",
    "# plt.plot(x, abs(c), 'o-', color='k', linewidth=4, label='Sympy')\n",
    "plt.plot(x, abs(c_torch), 'o', color=color_recursive,  markersize=8, markerfacecolor='none', label='Torch')\n",
    "plt.plot(x, abs(c_brute), 'o', color=color_brute_force, markersize=4,label='Brute Force')\n",
    "\n",
    "\n",
    "# plt.xscale('log')\n",
    "plt.yscale('log')\n",
    "plt.xlabel('Order/path length', fontsize=20)\n",
    "plt.ylabel('$|c_{population}|$', fontsize=20)\n",
    "plt.legend(fontsize=18)\n",
    "\n",
    "# Adjusting tick parameters\n",
    "plt.xticks(fontsize=20)\n",
    "plt.yticks(fontsize=20)\n",
    "\n",
    "# Customizing the number of ticks for logarithmic scale\n",
    "# display only 5 ticks on x axis\n",
    "plt.gca().xaxis.set_major_locator(MaxNLocator(nbins=5))\n",
    "plt.gca().yaxis.set_major_locator(LogLocator(base=10.0, numticks=5))\n",
    "plt.tight_layout()\n",
    "\n",
    "plt.show()"
   ]
  },
  {
   "cell_type": "code",
   "execution_count": 15,
   "metadata": {},
   "outputs": [],
   "source": [
    "c_ring_brute = abs(c_brute)\n",
    "c_ring_torch = abs(c_torch)\n",
    "c_ring_fit = abs(fit_torch)"
   ]
  },
  {
   "cell_type": "markdown",
   "metadata": {},
   "source": [
    "### For a random network"
   ]
  },
  {
   "cell_type": "code",
   "execution_count": 16,
   "metadata": {},
   "outputs": [
    {
     "name": "stdout",
     "output_type": "stream",
     "text": [
      "tensor([-1.,  1.,  1., -1.,  1.,  1., -1., -1.,  1.,  1.,  1.,  1.,  1.,  1.,\n",
      "         1.,  1.,  1.,  1.,  1.,  1.])\n",
      "tensor(0.4700)\n",
      "tensor(0.0963)\n"
     ]
    }
   ],
   "source": [
    "def create_neural_network(N, excitatory_percent, p, g_e, g_i):\n",
    "    num_excitatory = int(N * excitatory_percent)\n",
    "    num_inhibitory = N - num_excitatory\n",
    "    \n",
    "    G = torch.zeros((N, N))\n",
    "        \n",
    "    # Create a list of neuron types (1 for excitatory, -1 for inhibitory)\n",
    "    neuron_types = torch.cat((torch.ones(num_excitatory), -torch.ones(num_inhibitory)))\n",
    "    \n",
    "    # Shuffle the neuron types\n",
    "    neuron_types = neuron_types[torch.randperm(N)]\n",
    "    \n",
    "    # Create random connections with the specified probability\n",
    "    for i in range(N):\n",
    "        for j in range(N):\n",
    "            if np.random.rand() < p:\n",
    "                if neuron_types[j] == 1:\n",
    "                    G[i, j] = g_e\n",
    "                else:\n",
    "                    G[i, j] = g_i\n",
    "    \n",
    "    return G, neuron_types\n",
    "\n",
    "\n",
    "# N = 20  # Total number of neurons\n",
    "excitatory_percent = 0.8  # 80% excitatory neurons\n",
    "p = percent_nonzero  # Probability of connection\n",
    "g_e = 0.015  # Excitatory synaptic strength\n",
    "g_i = -0.075  # Inhibitory synaptic strength\n",
    "\n",
    "# define the external drive\n",
    "Y = 10 * torch.eye(N)\n",
    "\n",
    "# Find the integrated kernel matrix\n",
    "G, neuron_types = create_neural_network(N, excitatory_percent, p, g_e, g_i)\n",
    "\n",
    "# print(G)\n",
    "print(neuron_types)\n",
    "print(torch.count_nonzero(G) / (N**2))\n",
    "print(torch.max(torch.abs(torch.linalg.eigvals(G))))"
   ]
  },
  {
   "cell_type": "code",
   "execution_count": 17,
   "metadata": {},
   "outputs": [],
   "source": [
    "# print(G)"
   ]
  },
  {
   "cell_type": "code",
   "execution_count": 18,
   "metadata": {},
   "outputs": [],
   "source": [
    "n_max = 2 * N + 1\n",
    "# n_max = 20"
   ]
  },
  {
   "cell_type": "code",
   "execution_count": 19,
   "metadata": {},
   "outputs": [],
   "source": [
    "# # for sympy\n",
    "# recursive_sol = recursive_g(G=G, Y=Y, n_max=n_max)\n",
    "# S = recursive_sol.S\n",
    "\n",
    "# c = [0] * n_max\n",
    "\n",
    "# for idx, mat in enumerate(S):\n",
    "#     c[idx] = float(sum(mat).evalf()) / (N * N)\n",
    "#     # c[idx] = c[idx] / (idx + 1)\n",
    "\n",
    "# # convert c to numpy array\n",
    "# c = np.array(c)"
   ]
  },
  {
   "cell_type": "code",
   "execution_count": 20,
   "metadata": {},
   "outputs": [],
   "source": [
    "# for torch\n",
    "recursive_sol_torch = recursive_g_torch(G=G, Y=Y, n_max=n_max)\n",
    "S_torch = recursive_sol_torch.S\n",
    "\n",
    "c_torch = [0] * n_max\n",
    "\n",
    "for idx, mat in enumerate(S_torch):\n",
    "    c_torch[idx] = torch.sum(mat).item() / (N * N)\n",
    "    # c_torch[idx] = c_torch[idx] / (idx + 1)\n",
    "\n",
    "# convert c to numpy array\n",
    "c_torch = np.array(c_torch)"
   ]
  },
  {
   "cell_type": "code",
   "execution_count": 21,
   "metadata": {},
   "outputs": [],
   "source": [
    "# brute force\n",
    "c_brute = [0] * n_max\n",
    "\n",
    "for i in range(n_max):\n",
    "    mat = 0\n",
    "    for j in range(i+1):\n",
    "        mat += torch.linalg.matrix_power(G, i-j) @ Y @ torch.linalg.matrix_power(G.T, j)\n",
    "    c_brute[i] = torch.sum(mat).item() / (N * N)\n",
    "    # c_brute[i] = c_brute[i] / (i + 1)\n",
    "\n",
    "c_brute = np.array(c_brute)"
   ]
  },
  {
   "cell_type": "code",
   "execution_count": 22,
   "metadata": {},
   "outputs": [
    {
     "name": "stdout",
     "output_type": "stream",
     "text": [
      "torch slope: -2.2697361011355226\n",
      "e_effective: 0.10333944764789225\n"
     ]
    }
   ],
   "source": [
    "# fit a line to the data\n",
    "x = np.arange(n_max)\n",
    "\n",
    "# Fit line through x and log(y)\n",
    "log_c_torch = np.log(abs(c_torch))\n",
    "\n",
    "slope_torch, intercept_torch, _, _, _ = linregress(x[2:], log_c_torch[2:])\n",
    "fit_torch = np.exp(intercept_torch + slope_torch * x)\n",
    "print(f\"torch slope: {slope_torch}\")\n",
    "print(f\"e_effective: {np.exp(slope_torch)}\")"
   ]
  },
  {
   "cell_type": "code",
   "execution_count": 23,
   "metadata": {},
   "outputs": [
    {
     "data": {
      "image/png": "[encoded data removed]",
      "text/plain": [
       "<Figure size 576x432 with 1 Axes>"
      ]
     },
     "metadata": {
      "needs_background": "light"
     },
     "output_type": "display_data"
    }
   ],
   "source": [
    "color_recursive = \"#FFA353\"\n",
    "color_brute_force = \"#095400\"\n",
    "\n",
    "plt.figure(figsize=(8, 6))\n",
    "# x = np.exp(np.arange(n_max))\n",
    "\n",
    "plt.plot(x, fit_torch, '--', linewidth=3, color='k', label='Fit')\n",
    "# plt.plot(x, abs(c), 'o-', color='k', linewidth=4, label='Sympy')\n",
    "plt.plot(x, abs(c_torch), 'o', color=color_recursive,  markersize=8, markerfacecolor='none', label='Torch')\n",
    "plt.plot(x, abs(c_brute), 'o', color=color_brute_force, markersize=4,label='Brute Force')\n",
    "\n",
    "\n",
    "# plt.xscale('log')\n",
    "plt.yscale('log')\n",
    "plt.xlabel('Order/path length', fontsize=20)\n",
    "plt.ylabel('$|c_{population}|$', fontsize=20)\n",
    "plt.legend(fontsize=18)\n",
    "\n",
    "# Adjusting tick parameters\n",
    "plt.xticks(fontsize=20)\n",
    "plt.yticks(fontsize=20)\n",
    "\n",
    "# Customizing the number of ticks for logarithmic scale\n",
    "# display only 5 ticks on x axis\n",
    "plt.gca().xaxis.set_major_locator(MaxNLocator(nbins=5))\n",
    "plt.gca().yaxis.set_major_locator(LogLocator(base=10.0, numticks=5))\n",
    "plt.tight_layout()\n",
    "\n",
    "plt.show()"
   ]
  },
  {
   "cell_type": "code",
   "execution_count": 24,
   "metadata": {},
   "outputs": [],
   "source": [
    "c_random_brute = abs(c_brute)\n",
    "c_random_torch = abs(c_torch)\n",
    "c_random_fit = abs(fit_torch)"
   ]
  },
  {
   "cell_type": "markdown",
   "metadata": {},
   "source": [
    "### Combining the two plots"
   ]
  },
  {
   "cell_type": "code",
   "execution_count": 36,
   "metadata": {},
   "outputs": [
    {
     "data": {
      "image/png": "[encoded data removed]",
      "text/plain": [
       "<Figure size 576x432 with 1 Axes>"
      ]
     },
     "metadata": {
      "needs_background": "light"
     },
     "output_type": "display_data"
    }
   ],
   "source": [
    "color_recursive = \"#FFA353\"\n",
    "color_brute_force = \"#095400\"\n",
    "\n",
    "plt.figure(figsize=(8, 6))\n",
    "# x = np.exp(np.arange(n_max))\n",
    "\n",
    "# plot the ring network\n",
    "plt.plot(x, c_ring_fit, '--', linewidth=3, color='k', label=None)\n",
    "plt.plot(x, c_ring_torch, 'o', color='#a65628',  markersize=8, markerfacecolor='none', label='Ring recursive')\n",
    "plt.plot(x, c_ring_brute, 'o', color='#98df8a', markersize=4, label='Ring Brute Force')\n",
    "\n",
    "# plot the random network\n",
    "plt.plot(x, c_random_fit, '--', linewidth=3, color='k', label='Fit')\n",
    "# plt.plot(x, abs(c), 'o-', color='k', linewidth=4, label='Sympy')\n",
    "plt.plot(x, c_random_torch, 's', color=color_recursive,  markersize=8, markerfacecolor='none', label='Random recursive')\n",
    "plt.plot(x, c_random_brute, 's', color=color_brute_force, markersize=4,label='Random Brute Force')\n",
    "\n",
    "\n",
    "# plt.xscale('log')\n",
    "plt.yscale('log')\n",
    "plt.xlabel('Order/path length', fontsize=20)\n",
    "plt.ylabel('$|c_{population}|$', fontsize=20)\n",
    "plt.legend(fontsize=18)\n",
    "\n",
    "# Adjusting tick parameters\n",
    "plt.xticks(fontsize=20)\n",
    "plt.yticks(fontsize=20)\n",
    "\n",
    "# Customizing the number of ticks for logarithmic scale\n",
    "# display only 5 ticks on x axis\n",
    "plt.gca().xaxis.set_major_locator(MaxNLocator(nbins=5))\n",
    "plt.gca().yaxis.set_major_locator(LogLocator(base=10.0, numticks=5))\n",
    "# change location of legent to bottom left\n",
    "plt.legend(loc='lower left', fontsize=18)\n",
    "plt.tight_layout()\n",
    "# save the figure\n",
    "plt.savefig(fileloc + \"plot.svg\", format=\"svg\", dpi=1200)\n",
    "\n",
    "plt.show()"
   ]
  },
  {
   "cell_type": "code",
   "execution_count": null,
   "metadata": {},
   "outputs": [],
   "source": []
  },
  {
   "cell_type": "code",
   "execution_count": null,
   "metadata": {},
   "outputs": [],
   "source": []
  },
  {
   "cell_type": "code",
   "execution_count": null,
   "metadata": {},
   "outputs": [],
   "source": []
  }
 ],
 "metadata": {
  "kernelspec": {
   "display_name": "conda-fr-whistler",
   "language": "python",
   "name": "python3"
  },
  "language_info": {
   "codemirror_mode": {
    "name": "ipython",
    "version": 3
   },
   "file_extension": ".py",
   "mimetype": "text/x-python",
   "name": "python",
   "nbconvert_exporter": "python",
   "pygments_lexer": "ipython3",
   "version": "3.1.undefined"
  }
 },
 "nbformat": 4,
 "nbformat_minor": 2
}
