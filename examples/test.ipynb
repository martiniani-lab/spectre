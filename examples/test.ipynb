{
 "cells": [
  {
   "cell_type": "markdown",
   "metadata": {},
   "source": [
    "This notebook is designed to test the new iterative lagorithm to calculate the decomposition of the correlation in terms of path length. "
   ]
  },
  {
   "cell_type": "code",
   "execution_count": 1,
   "metadata": {},
   "outputs": [],
   "source": [
    "import torch\n",
    "import numpy as np\n",
    "import matplotlib.pyplot as plt\n",
    "from spectre.model import FHN\n",
    "from spectre.spectrum_general import matrix_solution\n",
    "from spectre.spectrum_general import recursive_solution\n",
    "\n",
    "\n",
    "plt.rc(\"text\", usetex=True)\n",
    "plt.rc(\"font\", family=\"serif\")\n",
    "# device = torch.device(\"cuda\" if torch.cuda.is_available() else \"cpu\")\n",
    "device = torch.device(\"cpu\")"
   ]
  },
  {
   "cell_type": "code",
   "execution_count": 16,
   "metadata": {},
   "outputs": [
    {
     "name": "stdout",
     "output_type": "stream",
     "text": [
      "Y is positive definite:  True\n"
     ]
    },
    {
     "data": {
      "image/png": "[encoded data removed]",
      "text/plain": [
       "<Figure size 432x288 with 2 Axes>"
      ]
     },
     "metadata": {
      "needs_background": "light"
     },
     "output_type": "display_data"
    }
   ],
   "source": [
    "n = 10 # system size\n",
    "\n",
    "# Connectivity matrix \n",
    "G = torch.randn(n, n)\n",
    "G = 0.9 * G / torch.max(torch.abs(torch.linalg.eigvals(G)))\n",
    "\n",
    "# Define the noise matrix\n",
    "Y = torch.randn(n, n)\n",
    "# make Y to be positive definite\n",
    "Y = Y @ Y.t()\n",
    "print(\"Y is positive definite: \", torch.all(torch.real(torch.linalg.eigvals(Y)) > 0).item())\n",
    "\n",
    "# plot the matrix with the connectivity\n",
    "plt.figure()\n",
    "plt.imshow(G.numpy())\n",
    "plt.colorbar()\n",
    "plt.title(\"Connectivity matrix\")\n",
    "plt.show()"
   ]
  },
  {
   "cell_type": "code",
   "execution_count": 17,
   "metadata": {},
   "outputs": [],
   "source": [
    "B = torch.linalg.inv(torch.eye(n) - G)\n",
    "C = B @ Y @ B.t()"
   ]
  },
  {
   "cell_type": "code",
   "execution_count": 21,
   "metadata": {},
   "outputs": [],
   "source": [
    "omega = 0.1\n",
    "\n",
    "# convert G to comeple double\n",
    "S = torch.linalg.inv(1j * omega * torch.eye(n) + G) @ Y.to(torch.complex64) @ torch.linalg.inv(- 1j * omega * torch.eye(n) + G.t())\n"
   ]
  },
  {
   "cell_type": "code",
   "execution_count": 24,
   "metadata": {},
   "outputs": [
    {
     "name": "stdout",
     "output_type": "stream",
     "text": [
      "The two solutions are the same:  True\n"
     ]
    }
   ],
   "source": [
    "S1 = (1 / omega **2) * torch.linalg.inv(torch.eye(n) + G / (1j * omega)) @ Y.to(torch.complex64) @ torch.linalg.inv(torch.eye(n) - G.t() / (1j * omega))\n",
    "\n",
    "# check if the two solutions are the same\n",
    "print(\"The two solutions are the same: \", torch.allclose(S, S1, atol=1e-6))"
   ]
  },
  {
   "cell_type": "code",
   "execution_count": null,
   "metadata": {},
   "outputs": [],
   "source": []
  },
  {
   "cell_type": "code",
   "execution_count": null,
   "metadata": {},
   "outputs": [],
   "source": []
  },
  {
   "cell_type": "code",
   "execution_count": null,
   "metadata": {},
   "outputs": [],
   "source": []
  },
  {
   "cell_type": "code",
   "execution_count": null,
   "metadata": {},
   "outputs": [],
   "source": []
  }
 ],
 "metadata": {
  "kernelspec": {
   "display_name": "conda-fr-whistler",
   "language": "python",
   "name": "python3"
  },
  "language_info": {
   "codemirror_mode": {
    "name": "ipython",
    "version": 3
   },
   "file_extension": ".py",
   "mimetype": "text/x-python",
   "name": "python",
   "nbconvert_exporter": "python",
   "pygments_lexer": "ipython3",
   "version": "3.1.undefined"
  }
 },
 "nbformat": 4,
 "nbformat_minor": 2
}
