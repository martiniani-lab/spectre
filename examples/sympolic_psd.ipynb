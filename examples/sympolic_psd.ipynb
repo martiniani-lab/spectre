{
 "cells": [
  {
   "attachments": {},
   "cell_type": "markdown",
   "metadata": {},
   "source": [
    "This notebook includes examples of how to find the coefficients of the numerator and the denominator in terms of the $\\mathbf{O}$ and $\\mathbf{O}^\\prime$ matrices for a n-dimensional system with a given input covariance matrix. We show an example for a 4-D system with a diagonal input covariance. Note that we follow indexing starting from 0 here."
   ]
  },
  {
   "cell_type": "code",
   "execution_count": 14,
   "metadata": {},
   "outputs": [],
   "source": [
    "import numpy as np\n",
    "import sympy as sp\n",
    "import re\n",
    "import torch\n",
    "from spectre.spectrum_general.symbolic_spectrum import symbolic\n",
    "\n",
    "\"\"\"Define the dimensionality of the system\"\"\"\n",
    "n = 3\n",
    "\n",
    "\"\"\"Define the variable for which you want the auto-spectrum\"\"\"\n",
    "i = 0"
   ]
  },
  {
   "cell_type": "code",
   "execution_count": 15,
   "metadata": {
    "collapsed": false
   },
   "outputs": [
    {
     "name": "stdout",
     "output_type": "stream",
     "text": [
      "Matrix([[a_00, a_01, a_02], [a_10, a_11, a_12], [a_20, a_21, a_22]])\n"
     ]
    }
   ],
   "source": [
    "\"\"\"Define the matrix J which is n*n and elements like [a00, a01; a10, a11]\"\"\"\n",
    "J = sp.Matrix([[sp.symbols('a_%d%d' % (k, j)) for j in range(n)] for k in range(n)])\n",
    "print(J)"
   ]
  },
  {
   "attachments": {},
   "cell_type": "markdown",
   "metadata": {},
   "source": [
    "Now we define the noise covariance matrices $\\mathbf{L}$ and $\\mathbf{S}$."
   ]
  },
  {
   "cell_type": "code",
   "execution_count": 16,
   "metadata": {
    "collapsed": false
   },
   "outputs": [
    {
     "data": {
      "text/latex": [
       "$\\displaystyle \\left[\\begin{matrix}l_{0} & 0 & 0\\\\0 & l_{1} & 0\\\\0 & 0 & l_{2}\\end{matrix}\\right]$"
      ],
      "text/plain": [
       "Matrix([\n",
       "[l0,  0,  0],\n",
       "[ 0, l1,  0],\n",
       "[ 0,  0, l2]])"
      ]
     },
     "metadata": {},
     "output_type": "display_data"
    },
    {
     "data": {
      "text/latex": [
       "$\\displaystyle \\left[\\begin{matrix}s_{0} & 0 & 0\\\\0 & s_{1} & 0\\\\0 & 0 & s_{2}\\end{matrix}\\right]$"
      ],
      "text/plain": [
       "Matrix([\n",
       "[s0,  0,  0],\n",
       "[ 0, s1,  0],\n",
       "[ 0,  0, s2]])"
      ]
     },
     "metadata": {},
     "output_type": "display_data"
    }
   ],
   "source": [
    "\"\"\"Define the noise variables\"\"\"\n",
    "l = [sp.Symbol('l%d' % (j)) for j in range(0, n)] # this is the noise variable\n",
    "s = [sp.Symbol('s%d' % (j)) for j in range(0, n)] # this is the sigma variable\n",
    "\n",
    "# We define this matrix to be diagonal\n",
    "L = sp.diag(*l)\n",
    "\n",
    "# L[0, 0] = 0\n",
    "# L[1, 1] = 0\n",
    "# L[2, 2] = 0\n",
    "S = sp.diag(*s)\n",
    "\n",
    "display(L)\n",
    "display(S)"
   ]
  },
  {
   "cell_type": "code",
   "execution_count": 17,
   "metadata": {},
   "outputs": [],
   "source": [
    "\"\"\"Initialize a symbolic model object\"\"\"\n",
    "model = symbolic(n, L, S)"
   ]
  },
  {
   "attachments": {},
   "cell_type": "markdown",
   "metadata": {},
   "source": [
    "All the coefficients of the the powers of $\\omega$ in the denominator; displayed in ascending order."
   ]
  },
  {
   "cell_type": "code",
   "execution_count": 18,
   "metadata": {},
   "outputs": [
    {
     "name": "stdout",
     "output_type": "stream",
     "text": [
      "Coefficient of w^0 is: (Tr(J**2)**3 - 3*Tr(J**2)*Tr(J**4) + 2*Tr(J**6))/6\n",
      "Coefficient of w^2 is: (Tr(J**2)**2 - Tr(J**4))/2\n",
      "Coefficient of w^4 is: Tr(J**2)\n",
      "Coefficient of w^6 is: 1\n"
     ]
    }
   ],
   "source": [
    "coeffs = model.q_all_coeffs()\n",
    "\n",
    "for j in range(len(coeffs)):\n",
    "    print('Coefficient of w^{} is: {}'.format(2*j, coeffs[j]))\n"
   ]
  },
  {
   "attachments": {},
   "cell_type": "markdown",
   "metadata": {},
   "source": [
    "All the coeffs of $\\omega$ in the numerator; displayed in ascending order"
   ]
  },
  {
   "cell_type": "code",
   "execution_count": 19,
   "metadata": {},
   "outputs": [
    {
     "name": "stdout",
     "output_type": "stream",
     "text": [
      "Coefficient of w^0 is: (l0**2*s0**2*(Tr(O_00**2)**2 - Tr(O_00**4)) + l1**2*s1**2*(Tr(O'_10**2)**2 - Tr(O'_10**4) + Tr(O_10**2)**2 - Tr(O_10**4)) + l2**2*s2**2*(Tr(O'_20**2)**2 - Tr(O'_20**4) + Tr(O_20**2)**2 - Tr(O_20**4)))/2\n",
      "Coefficient of w^2 is: l0**2*s0**2*Tr(O_00**2) + l1**2*s1**2*(-2*Tr(O'_10)*Tr(O_10) + Tr(O'_10**2) + Tr(O_10)**2) + l2**2*s2**2*(-2*Tr(O'_20)*Tr(O_20) + Tr(O'_20**2) + Tr(O_20)**2)\n",
      "Coefficient of w^4 is: l0**2*s0**2\n"
     ]
    }
   ],
   "source": [
    "num_coeffs = model.p_auto_all_coeffs(i)\n",
    "\n",
    "for j in range(len(num_coeffs)):\n",
    "    print('Coefficient of w^{} is: {}'.format(2*j, num_coeffs[j]))"
   ]
  },
  {
   "cell_type": "code",
   "execution_count": 8,
   "metadata": {},
   "outputs": [
    {
     "name": "stdout",
     "output_type": "stream",
     "text": [
      "\\begin{equation}l_{1}^{2} s_{1}^{2}\\end{equation}\n"
     ]
    }
   ],
   "source": [
    "\"\"\"Optionally convert the experssion to latex, alpha is the index\"\"\"\n",
    "alpha = 1\n",
    "num_coeffs_str = sp.latex(num_coeffs[alpha], mode='equation')\n",
    "print(num_coeffs_str)\n"
   ]
  },
  {
   "cell_type": "code",
   "execution_count": 9,
   "metadata": {
    "collapsed": false
   },
   "outputs": [
    {
     "name": "stdout",
     "output_type": "stream",
     "text": [
      "\\begin{equation}l_{1}^{2} \\sigma_{1}^{2}\\end{equation}\n"
     ]
    }
   ],
   "source": [
    "\"\"\"Processing the string for printing\"\"\"\n",
    "pattern = r\"O'(\\d{2})\"\n",
    "num_coeffs_str = re.sub(pattern, r\"O^\\\\prime_{\\1}\", num_coeffs_str)\n",
    "num_coeffs_str = num_coeffs_str.replace(\"O\", \"\\mathbf{O}\")\n",
    "num_coeffs_str = num_coeffs_str.replace(\"s_\", \"\\sigma_\")\n",
    "num_coeffs_str = num_coeffs_str.replace(\"\\operatorname{Tr}\", \"\\mathbf{Tr}\")\n",
    "num_coeffs_str = num_coeffs_str.replace(\"\\left\", \"\")\n",
    "num_coeffs_str = num_coeffs_str.replace(\"\\\\right\", \"\")\n",
    "print(num_coeffs_str)"
   ]
  },
  {
   "cell_type": "code",
   "execution_count": null,
   "metadata": {},
   "outputs": [],
   "source": []
  }
 ],
 "metadata": {
  "kernelspec": {
   "display_name": "Python 3",
   "language": "python",
   "name": "python3"
  },
  "language_info": {
   "codemirror_mode": {
    "name": "ipython",
    "version": 3
   },
   "file_extension": ".py",
   "mimetype": "text/x-python",
   "name": "python",
   "nbconvert_exporter": "python",
   "pygments_lexer": "ipython3",
   "version": "3.10.4"
  }
 },
 "nbformat": 4,
 "nbformat_minor": 0
}
